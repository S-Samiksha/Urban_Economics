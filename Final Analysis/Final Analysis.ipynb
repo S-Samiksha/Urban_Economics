{
 "cells": [
  {
   "cell_type": "markdown",
   "id": "c7a71554",
   "metadata": {},
   "source": [
    "## Importing libraries and combining the dataset"
   ]
  },
  {
   "cell_type": "code",
   "execution_count": null,
   "id": "43f0bde0",
   "metadata": {},
   "outputs": [],
   "source": [
    "import pandas as pd\n",
    "import numpy as np\n",
    "import matplotlib.pyplot as plt\n",
    "import seaborn as sb\n",
    "sb.set()\n",
    "from sklearn import preprocessing\n",
    "from sklearn.cluster import DBSCAN\n",
    "from sklearn.neighbors import NearestNeighbors\n",
    "from collections import Counter\n",
    "import time\n",
    "from sklearn.preprocessing import MinMaxScaler\n",
    "from sklearn.preprocessing import StandardScaler\n",
    "from sklearn.linear_model import LinearRegression\n",
    "mmScaler = MinMaxScaler()\n",
    "sScaler = StandardScaler()"
   ]
  },
  {
   "cell_type": "code",
   "execution_count": null,
   "id": "a82b2764",
   "metadata": {},
   "outputs": [],
   "source": [
    "df1 = pd.read_csv('hdb_nearest_bus.csv')\n",
    "# print the dataset \n",
    "df1"
   ]
  },
  {
   "cell_type": "code",
   "execution_count": null,
   "id": "ab4388e4",
   "metadata": {},
   "outputs": [],
   "source": [
    "df2 = pd.read_csv('hdb_to_mrt_all.csv')\n",
    "# print the dataset \n",
    "df2"
   ]
  },
  {
   "cell_type": "code",
   "execution_count": null,
   "id": "bf54cab8",
   "metadata": {},
   "outputs": [],
   "source": [
    "# combined = df2.merge(df1, on=['Postal'])"
   ]
  },
  {
   "cell_type": "code",
   "execution_count": null,
   "id": "109eda7c",
   "metadata": {},
   "outputs": [],
   "source": [
    "combined = df2\n",
    "combined.columns"
   ]
  },
  {
   "cell_type": "code",
   "execution_count": null,
   "id": "b560dc6c",
   "metadata": {},
   "outputs": [],
   "source": [
    "# combined = combined.drop(['no','Unnamed: 0_x','Unnamed: 0.1','lat_hdb','lng_hdb','lng_mrt', 'lat_mrt','Unnamed: 0_y', 'Unnamed: 1',\n",
    "#        'BusStopCode','Description', 'Latitude', 'Longitude',\n",
    "#        'UpDown', 'LeftRight', 'RoadName', 'line', 'MRT_ID'], axis=1)"
   ]
  },
  {
   "cell_type": "code",
   "execution_count": null,
   "id": "394553cd",
   "metadata": {},
   "outputs": [],
   "source": [
    "combined = combined.drop(['no','Unnamed: 0','Unnamed: 0.1','lat_hdb','lng_hdb','lng_mrt', 'lat_mrt', 'MRT_ID'], axis=1)"
   ]
  },
  {
   "cell_type": "code",
   "execution_count": null,
   "id": "cf1acc5c",
   "metadata": {},
   "outputs": [],
   "source": []
  },
  {
   "cell_type": "markdown",
   "id": "31f96e64",
   "metadata": {},
   "source": [
    "## Adjusting for inflation \n",
    "to be done"
   ]
  },
  {
   "cell_type": "code",
   "execution_count": null,
   "id": "9bfb034f",
   "metadata": {},
   "outputs": [],
   "source": [
    "#https://eservices.mas.gov.sg/statistics/calculator/GoodsAndServices.aspx\n",
    "    \n",
    "def adjustment(oldprice, date):\n",
    "    if \"2022\" in date:\n",
    "        return 0.96*oldprice\n",
    "    elif \"2021\" in date:\n",
    "        return 1.01*oldprice\n",
    "    elif \"2020\" in date:\n",
    "        return 1.03*oldprice\n",
    "    elif \"2019\" in date:\n",
    "        return 1.02*oldprice\n",
    "    elif \"2018\" in date:\n",
    "        return 1.01*oldprice\n",
    "    elif \"2017\" in date:\n",
    "        return oldprice\n",
    "    \n",
    "\n",
    "combined['real_price'] = combined.apply(lambda row: adjustment(row.resale_price, row.month), axis=1)\n",
    "combined['real_price_persqm'] = combined.apply(lambda row: adjustment(row.sgd_persqm, row.month), axis=1)"
   ]
  },
  {
   "cell_type": "markdown",
   "id": "a30ef88f",
   "metadata": {},
   "source": [
    "## Comparison between types of HDBs\n",
    "We need to recognise that some HDBs have multistory carparks in the lower levels while others do not. \n",
    "Some HDBs have hawkers in built, others have commercial shops like value dollar shops. \n",
    "\n",
    "So what are the HDB facilities? \n",
    "1. Commercial!\n",
    "2. Multistory carpark!\n",
    "4. Precint_pavillion!\n",
    "\n",
    "what are the combination available in the given dataset?\n",
    "\n",
    "1. Pure residential \n",
    "2. Residential and Commercial Only\n",
    "3. Residential, Commercial with carpark (6 rows only)\n",
    "4. Residential and pavilion"
   ]
  },
  {
   "cell_type": "code",
   "execution_count": null,
   "id": "e9dabbc5",
   "metadata": {},
   "outputs": [],
   "source": [
    "residential = combined.loc[(combined['residential']==\"Y\") & (combined['commercial']==\"N\") & (combined['multistorey_carpark']==\"N\") & (combined['precinct_pavilion']==\"N\")]\n",
    "res_and_comm = combined.loc[(combined['residential']==\"Y\") & (combined['commercial']==\"Y\") & (combined['multistorey_carpark']==\"N\") & (combined['precinct_pavilion']==\"N\")]\n",
    "res_comm_car = combined.loc[(combined['residential']==\"Y\") & (combined['commercial']==\"Y\") & (combined['multistorey_carpark']==\"Y\") & (combined['precinct_pavilion']==\"N\")]\n",
    "res_pav = combined.loc[(combined['residential']==\"Y\") & (combined['commercial']==\"N\") & (combined['multistorey_carpark']==\"N\") & (combined['precinct_pavilion']==\"Y\")]\n",
    "residential.columns"
   ]
  },
  {
   "cell_type": "code",
   "execution_count": null,
   "id": "acb5ac8b",
   "metadata": {},
   "outputs": [],
   "source": [
    "def printgraph(x:str,y:str):\n",
    "    X=residential[[x]]\n",
    "    Y=residential[[y]]\n",
    "    \n",
    "    titlestr = x + ' against ' + y + ' for purely residential HDBs'\n",
    "\n",
    "    regressor = LinearRegression()\n",
    "    regressor.fit(X,Y)\n",
    "    y_pred = regressor.predict(X)\n",
    "    plt.scatter(X, Y, color = 'red', )\n",
    "    plt.plot(X, regressor.predict(X), color = 'blue')\n",
    "    plt.title(titlestr)\n",
    "    plt.xlabel(x)\n",
    "    plt.ylabel(y)\n",
    "    plt.show()\n",
    "    \n",
    "    print(\"\\n\\n\\n\")\n",
    "    X=res_and_comm[[x]]\n",
    "    Y=res_and_comm[[y]]\n",
    "    \n",
    "    titlestr = x + '  against ' + y + ' for residential, commercial HDBs'\n",
    "\n",
    "    regressor = LinearRegression()\n",
    "    regressor.fit(X,Y)\n",
    "    y_pred = regressor.predict(X)\n",
    "    plt.scatter(X, Y, color = 'red', )\n",
    "    plt.plot(X, regressor.predict(X), color = 'blue')\n",
    "    plt.title(titlestr)\n",
    "    plt.xlabel(x)\n",
    "    plt.ylabel(y)\n",
    "    plt.show()\n",
    "    \n",
    "    print(\"\\n\\n\\n\")\n",
    "    X=res_comm_car[[x]]\n",
    "    Y=res_comm_car[[y]]\n",
    "    \n",
    "    titlestr = x + '  against ' + y + ' for residential, commercial, carpark HDBs'\n",
    "\n",
    "    regressor = LinearRegression()\n",
    "    regressor.fit(X,Y)\n",
    "    y_pred = regressor.predict(X)\n",
    "    plt.scatter(X, Y, color = 'red', )\n",
    "    plt.plot(X, regressor.predict(X), color = 'blue')\n",
    "    plt.title(titlestr)\n",
    "    plt.xlabel(x)\n",
    "    plt.ylabel(y)\n",
    "    plt.show()\n",
    "    \n",
    "    print(\"\\n\\n\\n\")\n",
    "    X=res_pav[[x]]\n",
    "    Y=res_pav[[y]]\n",
    "    \n",
    "    titlestr = x + '  against ' + y + ' for residential, pavilion HDBs'\n",
    "\n",
    "    regressor = LinearRegression()\n",
    "    regressor.fit(X,Y)\n",
    "    y_pred = regressor.predict(X)\n",
    "    plt.scatter(X, Y, color = 'red', )\n",
    "    plt.plot(X, regressor.predict(X), color = 'blue')\n",
    "    plt.title(titlestr)\n",
    "    plt.xlabel(x)\n",
    "    plt.ylabel(y)\n",
    "    plt.show()\n",
    "    \n",
    "def printmenu():\n",
    "    llist = ['floor_area_sqm', 'resale_price', 'max_floor_lvl','total_dwelling_units', '1room_sold', '2room_sold', '3room_sold',\n",
    "       '4room_sold', '5room_sold', 'exec_sold', 'multigen_sold',\n",
    "       'studio_apartment_sold', '1room_rental', '2room_rental', '3room_rental',\n",
    "       'other_room_rental', 'mahattan_distance', 'mrt_cbd_dist',\n",
    "       'mrt_cbd_time', 'hdb_cbd_distance', 'hdb_cbd_time', 'hdb_to_mrtdist',\n",
    "       'sgd_persqm', 'Distance', 'real_price', 'real_price_persqm']\n",
    "    \n",
    "    print(\"Below are the variables: \")\n",
    "    count = 0\n",
    "    for item in llist:\n",
    "        print(\"item \", count, \": \", item)\n",
    "        count +=1\n",
    "        \n",
    "    x_var = int(input(\"Choose x variable (type in the item number only!): \\n\"))\n",
    "    y_var = int(input(\"Choose y variable (type in the item number only!): \\n\"))\n",
    "    \n",
    "    \n",
    "    return llist[x_var], llist[y_var]"
   ]
  },
  {
   "cell_type": "markdown",
   "id": "ac254ba9",
   "metadata": {},
   "source": [
    "# Continuous Variables "
   ]
  },
  {
   "cell_type": "markdown",
   "id": "4c952a7e",
   "metadata": {},
   "source": [
    "## User guide to using the below cell:\n",
    "\n",
    "1. press shift + enter to run the cell. \n",
    "2. Enter the item number you wish to compare. Only numbers allowed\n"
   ]
  },
  {
   "cell_type": "code",
   "execution_count": null,
   "id": "eaa66e23",
   "metadata": {
    "scrolled": false
   },
   "outputs": [],
   "source": [
    "x_var, y_var = printmenu()\n",
    "printgraph(str(x_var), str(y_var))"
   ]
  },
  {
   "cell_type": "markdown",
   "id": "a7ac8a8d",
   "metadata": {},
   "source": [
    "# Categorical Variables\n",
    "\n",
    "The below will only allow y variable to be sgd_persqm or resale price!"
   ]
  },
  {
   "cell_type": "markdown",
   "id": "727d2ee8",
   "metadata": {},
   "source": [
    "## User guide to using the below cell:\n",
    "\n",
    "1. press shift + enter to run the cell. \n",
    "2. Enter the item number you wish to compare. Only numbers allowed\n"
   ]
  },
  {
   "cell_type": "code",
   "execution_count": null,
   "id": "931d5fad",
   "metadata": {},
   "outputs": [],
   "source": [
    "def printgraph2(X:str,Y:str):\n",
    "    \n",
    "    f = plt.figure(figsize=(16,8))\n",
    "    sb.boxplot(x=X, y=Y, data = residential)\n",
    "    \n",
    "    f = plt.figure(figsize=(16,8))\n",
    "    sb.boxplot(x=X, y=Y, data = res_and_comm)\n",
    "    \n",
    "    f = plt.figure(figsize=(16,8))\n",
    "    sb.boxplot(x=X, y=Y, data = res_comm_car)\n",
    "    \n",
    "    f = plt.figure(figsize=(16,8))\n",
    "    sb.boxplot(x=X, y=Y, data = res_pav)\n",
    "    \n",
    "    \n",
    "    \n",
    "def printmenu2():\n",
    "    llist = ['month', 'town', 'flat_type', 'blk_no', 'street', 'storey_range',\n",
    "       'flat_model', 'lease_commence_date',\n",
    "       'remaining_lease', 'year_completed',\n",
    "       'residential', 'commercial', 'market_hawker', 'miscellaneous',\n",
    "       'multistorey_carpark', 'precinct_pavilion', 'bldg_contract_town',\n",
    "       'building', 'SUBZONE_NO', 'line',\n",
    "       'SUBZONE_N', 'SUBZONE_C', 'PLN_AREA_N', 'PLN_AREA_C', 'REGION_N',\n",
    "       'REGION_C', 'MRT_NAME']\n",
    "    \n",
    "    print(\"Below are the variables: \")\n",
    "    count = 0\n",
    "    for item in llist:\n",
    "        print(\"item \", count, \": \", item)\n",
    "        count +=1\n",
    "        \n",
    "    x_var = int(input(\"Choose x variable (type in the item number only!): \\n\"))\n",
    "    \n",
    "    yvar = ['resale_price','sgd_persqm','real_price', 'real_price_persqm']\n",
    "    \n",
    "    count = 0\n",
    "    for item in yvar:\n",
    "        print(\"item \", count, \": \", item)\n",
    "        count +=1\n",
    "    \n",
    "    y_var = int(input(\"Choose y variable (type in the item number only!): \\n\"))\n",
    "    \n",
    "    \n",
    "    return llist[x_var], yvar[y_var]"
   ]
  },
  {
   "cell_type": "code",
   "execution_count": null,
   "id": "1b93bedc",
   "metadata": {
    "scrolled": false
   },
   "outputs": [],
   "source": [
    "x_var, y_var = printmenu2()\n",
    "\n",
    "printgraph2(x_var,y_var)"
   ]
  },
  {
   "cell_type": "code",
   "execution_count": null,
   "id": "d9a7f1aa",
   "metadata": {},
   "outputs": [],
   "source": []
  }
 ],
 "metadata": {
  "kernelspec": {
   "display_name": "Python 3 (ipykernel)",
   "language": "python",
   "name": "python3"
  },
  "language_info": {
   "codemirror_mode": {
    "name": "ipython",
    "version": 3
   },
   "file_extension": ".py",
   "mimetype": "text/x-python",
   "name": "python",
   "nbconvert_exporter": "python",
   "pygments_lexer": "ipython3",
   "version": "3.8.5"
  }
 },
 "nbformat": 4,
 "nbformat_minor": 5
}

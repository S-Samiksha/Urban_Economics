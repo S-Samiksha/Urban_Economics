{
 "cells": [
  {
   "cell_type": "code",
   "execution_count": 1,
   "id": "5e1a64fd",
   "metadata": {},
   "outputs": [],
   "source": [
    "##importing the csv into the notebook\n",
    "import numpy as np # linear algebra\n",
    "import pandas as pd # data processing, CSV file I/O (e.g. pd.read_csv)\n",
    "import seaborn as sb\n",
    "import matplotlib.pyplot as plt # we only need pyplot\n",
    "from sklearn.cluster import KMeans\n",
    "from sklearn.cluster import kmeans_plusplus\n",
    "from sklearn.neighbors import NearestNeighbors\n",
    "from sklearn.cluster import DBSCAN\n",
    "from sklearn.preprocessing import MinMaxScaler\n",
    "from sklearn.preprocessing import StandardScaler\n",
    "import time\n",
    "from sklearn.metrics import silhouette_samples, silhouette_score\n",
    "from mpl_toolkits import mplot3d \n",
    "from mpl_toolkits.mplot3d import Axes3D\n",
    "sb.set() # set the default Seaborn style for graphics\n",
    "pd.options.mode.chained_assignment = None\n",
    "scaler = MinMaxScaler() #you might need to change this according to the data set we have "
   ]
  },
  {
   "cell_type": "code",
   "execution_count": 2,
   "id": "dc5ed335",
   "metadata": {},
   "outputs": [],
   "source": [
    "combined = pd.read_csv(\"./combined.csv\", index_col = [0]) #import fresh data  \n"
   ]
  },
  {
   "cell_type": "code",
   "execution_count": 3,
   "id": "1fd89cd5",
   "metadata": {},
   "outputs": [],
   "source": [
    "combined = combined.rename(columns = {'lng_y':'lng_mrt', 'lat_y':'lat_mrt','lng_x':'lng_hdb', 'lat_x':'lat_hdb', 'distance': 'mahattan_distance', 'travel_distance':'mrt_cbd_dist', 'travel_time':'mrt_cbd_time'})"
   ]
  },
  {
   "cell_type": "code",
   "execution_count": null,
   "id": "b02117cf",
   "metadata": {},
   "outputs": [],
   "source": [
    "import requests\n",
    "import json# call the OSMR API\n",
    "\n",
    "i=1\n",
    "\n",
    "\n",
    "def router(row):\n",
    "    lon_1, lat_1, lon_2, lat_2 = row['lng_hdb'], row['lat_hdb'], 103.8513, 1.2830\n",
    "    \n",
    "    global i\n",
    "    r = requests.get(f\"http://router.project-osrm.org/route/v1/car/{lon_1},{lat_1};{lon_2},{lat_2}?overview=false\"\"\")# then you load the response using the json libray\n",
    "    # by default you get only one alternative so you access 0-th element of the `routes`\n",
    "    \n",
    "    routes = json.loads(r.content)\n",
    "    # print(routes)\n",
    "    route_1 = routes.get(\"routes\")[0]\n",
    "    # print(f\"Overall, the route data is:\\n{route_1}\\n\")\n",
    "    seconds = route_1['legs'][0]['duration']\n",
    "    #print(f\"Duration: {seconds}sec ({seconds/60:.2f} min )\")\n",
    "    print(\"row\", i)\n",
    "    print(route_1['legs'][0]['distance'])\n",
    "    i += 1\n",
    "    return float(route_1['legs'][0]['distance']), float(seconds/60.0)\n",
    "    \n",
    "\n",
    "\n",
    "\n",
    "\n"
   ]
  },
  {
   "cell_type": "code",
   "execution_count": null,
   "id": "a8502a48",
   "metadata": {},
   "outputs": [],
   "source": [
    "combined[['hdb_cbd_distance', 'hdb_cbd_time']]  = combined.apply(router, axis=1, result_type='expand')"
   ]
  },
  {
   "cell_type": "code",
   "execution_count": null,
   "id": "7e45e803",
   "metadata": {},
   "outputs": [],
   "source": [
    "combined"
   ]
  },
  {
   "cell_type": "code",
   "execution_count": null,
   "id": "67242a00",
   "metadata": {},
   "outputs": [],
   "source": [
    "import requests\n",
    "import json# call the OSMR API\n",
    "\n",
    "i=1\n",
    "\n",
    "\n",
    "def router2(row):\n",
    "    lon_1, lat_1, lon_2, lat_2 = row['lng_hdb'], row['lat_hdb'], row['lng_mrt'], row['lat_mrt']\n",
    "    \n",
    "    global i\n",
    "    r = requests.get(f\"http://router.project-osrm.org/route/v1/car/{lon_1},{lat_1};{lon_2},{lat_2}?overview=false\"\"\")# then you load the response using the json libray\n",
    "    # by default you get only one alternative so you access 0-th element of the `routes`\n",
    "    \n",
    "    routes = json.loads(r.content)\n",
    "    # print(routes)\n",
    "    route_1 = routes.get(\"routes\")[0]\n",
    "    # print(f\"Overall, the route data is:\\n{route_1}\\n\")\n",
    "    seconds = route_1['legs'][0]['duration']\n",
    "    #print(f\"Duration: {seconds}sec ({seconds/60:.2f} min )\")\n",
    "    print(\"row\", i)\n",
    "    print(route_1['legs'][0]['distance'])\n",
    "    i += 1\n",
    "    return float(route_1['legs'][0]['distance']), float(seconds/60.0)\n",
    "    \n",
    "\n",
    "\n",
    "\n",
    "\n"
   ]
  },
  {
   "cell_type": "code",
   "execution_count": null,
   "id": "faf79c4c",
   "metadata": {
    "scrolled": true
   },
   "outputs": [],
   "source": [
    "combined[['hdb_mrt_distance', 'hdb_mrt_time']]  = combined.apply(router, axis=1, result_type='expand')"
   ]
  },
  {
   "cell_type": "code",
   "execution_count": null,
   "id": "eaa75224",
   "metadata": {},
   "outputs": [],
   "source": [
    "combined"
   ]
  },
  {
   "cell_type": "code",
   "execution_count": null,
   "id": "1b68b00b",
   "metadata": {},
   "outputs": [],
   "source": []
  }
 ],
 "metadata": {
  "kernelspec": {
   "display_name": "Python 3 (ipykernel)",
   "language": "python",
   "name": "python3"
  },
  "language_info": {
   "codemirror_mode": {
    "name": "ipython",
    "version": 3
   },
   "file_extension": ".py",
   "mimetype": "text/x-python",
   "name": "python",
   "nbconvert_exporter": "python",
   "pygments_lexer": "ipython3",
   "version": "3.8.5"
  }
 },
 "nbformat": 4,
 "nbformat_minor": 5
}
